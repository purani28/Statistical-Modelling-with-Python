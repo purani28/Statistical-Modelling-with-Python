{
 "cells": [
  {
   "cell_type": "markdown",
   "metadata": {},
   "source": [
    "Build a regression model."
   ]
  },
  {
   "cell_type": "code",
   "execution_count": null,
   "metadata": {},
   "outputs": [
    {
     "name": "stdout",
     "output_type": "stream",
     "text": [
      "                            OLS Regression Results                            \n",
      "==============================================================================\n",
      "Dep. Variable:                      y   R-squared:                       0.147\n",
      "Model:                            OLS   Adj. R-squared:                 -0.024\n",
      "Method:                 Least Squares   F-statistic:                    0.8615\n",
      "Date:                Wed, 20 Nov 2024   Prob (F-statistic):              0.452\n",
      "Time:                        11:18:14   Log-Likelihood:                -37.667\n",
      "No. Observations:                  13   AIC:                             81.33\n",
      "Df Residuals:                      10   BIC:                             83.03\n",
      "Df Model:                           2                                         \n",
      "Covariance Type:            nonrobust                                         \n",
      "==============================================================================\n",
      "                 coef    std err          t      P>|t|      [0.025      0.975]\n",
      "------------------------------------------------------------------------------\n",
      "const        -13.0284     13.862     -0.940      0.369     -43.914      17.857\n",
      "x1             0.0231      0.048      0.477      0.644      -0.085       0.131\n",
      "x2             3.7811      3.506      1.078      0.306      -4.032      11.594\n",
      "==============================================================================\n",
      "Omnibus:                        5.703   Durbin-Watson:                   2.222\n",
      "Prob(Omnibus):                  0.058   Jarque-Bera (JB):                2.752\n",
      "Skew:                           1.079   Prob(JB):                        0.253\n",
      "Kurtosis:                       3.652   Cond. No.                         624.\n",
      "==============================================================================\n",
      "\n",
      "Notes:\n",
      "[1] Standard Errors assume that the covariance matrix of the errors is correctly specified.\n"
     ]
    },
    {
     "name": "stderr",
     "output_type": "stream",
     "text": [
      "c:\\Users\\krish\\anaconda3\\Lib\\site-packages\\scipy\\stats\\_axis_nan_policy.py:531: UserWarning: kurtosistest only valid for n>=20 ... continuing anyway, n=13\n",
      "  res = hypotest_fun_out(*samples, **kwds)\n"
     ]
    }
   ],
   "source": [
    "import pandas as pd\n",
    "import statsmodels.api as sm\n",
    "\n",
    "df = pd.read_csv('data/cleaned_data.csv')\n",
    "\n",
    "X = df[['Distance (m)', 'Rating']].values\n",
    "y = df['free_bikes'].values\n",
    "\n",
    "X = sm.add_constant(X)\n",
    "model = sm.OLS(y, X).fit()\n",
    "\n",
    "print(model.summary())\n"
   ]
  },
  {
   "cell_type": "markdown",
   "metadata": {},
   "source": [
    "Provide model output and an interpretation of the results. "
   ]
  },
  {
   "cell_type": "markdown",
   "metadata": {},
   "source": [
    "Low R-squaerd value (14.7%) suggests that the model is not explaining much of the variability in the number of free bikes. Neither distance nor rating are statistically significant predictors of the number of free bikes, as indicated by their high p-values. Prob (F-statistic) = 0.452 suggests that the model as a whole is not statistically significant (p-value > 0.05). More data is needed to help improve the model's performance and significance."
   ]
  },
  {
   "cell_type": "markdown",
   "metadata": {},
   "source": [
    "# Stretch"
   ]
  },
  {
   "cell_type": "markdown",
   "metadata": {},
   "source": [
    "How can you turn the regression model into a classification model?"
   ]
  },
  {
   "cell_type": "code",
   "execution_count": 6,
   "metadata": {},
   "outputs": [
    {
     "name": "stdout",
     "output_type": "stream",
     "text": [
      "Warning: Maximum number of iterations has been exceeded.\n",
      "         Current function value: 0.231396\n",
      "         Iterations: 35\n",
      "                          MNLogit Regression Results                          \n",
      "==============================================================================\n",
      "Dep. Variable:                      y   No. Observations:                   13\n",
      "Model:                        MNLogit   Df Residuals:                        7\n",
      "Method:                           MLE   Df Model:                            4\n",
      "Date:                Wed, 20 Nov 2024   Pseudo R-squ.:                  0.6632\n",
      "Time:                        11:25:04   Log-Likelihood:                -3.0081\n",
      "converged:                      False   LL-Null:                       -8.9322\n",
      "Covariance Type:            nonrobust   LLR p-value:                   0.01852\n",
      "==============================================================================\n",
      "       y=1       coef    std err          z      P>|z|      [0.025      0.975]\n",
      "------------------------------------------------------------------------------\n",
      "const         -9.6707     15.453     -0.626      0.531     -39.958      20.616\n",
      "x1             0.2266      0.207      1.097      0.273      -0.178       0.632\n",
      "x2            -2.3272      2.584     -0.901      0.368      -7.392       2.737\n",
      "------------------------------------------------------------------------------\n",
      "       y=2       coef    std err          z      P>|z|      [0.025      0.975]\n",
      "------------------------------------------------------------------------------\n",
      "const      -1506.0876   1.85e+04     -0.081      0.935   -3.78e+04    3.48e+04\n",
      "x1            -1.5300     19.660     -0.078      0.938     -40.063      37.003\n",
      "x2           352.6706   4339.756      0.081      0.935   -8153.094    8858.435\n",
      "==============================================================================\n"
     ]
    },
    {
     "name": "stderr",
     "output_type": "stream",
     "text": [
      "c:\\Users\\krish\\anaconda3\\Lib\\site-packages\\statsmodels\\base\\model.py:607: ConvergenceWarning: Maximum Likelihood optimization failed to converge. Check mle_retvals\n",
      "  warnings.warn(\"Maximum Likelihood optimization failed to \"\n"
     ]
    }
   ],
   "source": [
    "bins = [0, 5, 15, float('inf')]\n",
    "labels = ['Low', 'Medium', 'High']\n",
    "df['free_bikes_category'] = pd.cut(df['free_bikes'], bins=bins, labels=labels, right=False)\n",
    "\n",
    "df['free_bikes_category'] = pd.Categorical(df['free_bikes_category'])\n",
    "\n",
    "X = df[['Distance (m)', 'Rating']].values  \n",
    "y = df['free_bikes_category'].cat.codes  \n",
    "\n",
    "X = sm.add_constant(X)\n",
    "model = sm.MNLogit(y, X).fit()\n",
    "\n",
    "print(model.summary())"
   ]
  }
 ],
 "metadata": {
  "kernelspec": {
   "display_name": "base",
   "language": "python",
   "name": "python3"
  },
  "language_info": {
   "codemirror_mode": {
    "name": "ipython",
    "version": 3
   },
   "file_extension": ".py",
   "mimetype": "text/x-python",
   "name": "python",
   "nbconvert_exporter": "python",
   "pygments_lexer": "ipython3",
   "version": "3.12.7"
  }
 },
 "nbformat": 4,
 "nbformat_minor": 4
}
